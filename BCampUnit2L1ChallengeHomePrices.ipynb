{
 "cells": [
  {
   "cell_type": "code",
   "execution_count": 2,
   "metadata": {},
   "outputs": [],
   "source": [
    "import pandas as pd\n",
    "import numpy as np\n",
    "import matplotlib.pyplot as plt\n",
    "%matplotlib inline\n",
    "import seaborn as sns\n",
    "import scipy.stats as stats\n",
    "from sklearn import preprocessing\n",
    "import math\n",
    "from matplotlib.mlab import PCA as mlabPCA\n",
    "from sklearn.preprocessing import StandardScaler\n",
    "from sklearn.decomposition import PCA \n",
    "df_houses = pd.read_csv('KingCountyHomePriceData.csv')"
   ]
  },
  {
   "cell_type": "code",
   "execution_count": 125,
   "metadata": {},
   "outputs": [
    {
     "data": {
      "text/html": [
       "<div>\n",
       "<style>\n",
       "    .dataframe thead tr:only-child th {\n",
       "        text-align: right;\n",
       "    }\n",
       "\n",
       "    .dataframe thead th {\n",
       "        text-align: left;\n",
       "    }\n",
       "\n",
       "    .dataframe tbody tr th {\n",
       "        vertical-align: top;\n",
       "    }\n",
       "</style>\n",
       "<table border=\"1\" class=\"dataframe\">\n",
       "  <thead>\n",
       "    <tr style=\"text-align: right;\">\n",
       "      <th></th>\n",
       "      <th>id</th>\n",
       "      <th>date</th>\n",
       "      <th>price</th>\n",
       "      <th>bedrooms</th>\n",
       "      <th>bathrooms</th>\n",
       "      <th>sqft_living</th>\n",
       "      <th>sqft_lot</th>\n",
       "      <th>floors</th>\n",
       "      <th>waterfront</th>\n",
       "      <th>view</th>\n",
       "      <th>...</th>\n",
       "      <th>grade</th>\n",
       "      <th>sqft_above</th>\n",
       "      <th>sqft_basement</th>\n",
       "      <th>yr_built</th>\n",
       "      <th>yr_renovated</th>\n",
       "      <th>zipcode</th>\n",
       "      <th>lat</th>\n",
       "      <th>long</th>\n",
       "      <th>sqft_living15</th>\n",
       "      <th>sqft_lot15</th>\n",
       "    </tr>\n",
       "  </thead>\n",
       "  <tbody>\n",
       "    <tr>\n",
       "      <th>0</th>\n",
       "      <td>7129300520</td>\n",
       "      <td>20141013T000000</td>\n",
       "      <td>221900.0</td>\n",
       "      <td>3</td>\n",
       "      <td>1.00</td>\n",
       "      <td>1180</td>\n",
       "      <td>5650</td>\n",
       "      <td>1.0</td>\n",
       "      <td>0</td>\n",
       "      <td>0</td>\n",
       "      <td>...</td>\n",
       "      <td>7</td>\n",
       "      <td>1180</td>\n",
       "      <td>0</td>\n",
       "      <td>1955</td>\n",
       "      <td>0</td>\n",
       "      <td>98178</td>\n",
       "      <td>47.5112</td>\n",
       "      <td>-122.257</td>\n",
       "      <td>1340</td>\n",
       "      <td>5650</td>\n",
       "    </tr>\n",
       "    <tr>\n",
       "      <th>1</th>\n",
       "      <td>6414100192</td>\n",
       "      <td>20141209T000000</td>\n",
       "      <td>538000.0</td>\n",
       "      <td>3</td>\n",
       "      <td>2.25</td>\n",
       "      <td>2570</td>\n",
       "      <td>7242</td>\n",
       "      <td>2.0</td>\n",
       "      <td>0</td>\n",
       "      <td>0</td>\n",
       "      <td>...</td>\n",
       "      <td>7</td>\n",
       "      <td>2170</td>\n",
       "      <td>400</td>\n",
       "      <td>1951</td>\n",
       "      <td>1991</td>\n",
       "      <td>98125</td>\n",
       "      <td>47.7210</td>\n",
       "      <td>-122.319</td>\n",
       "      <td>1690</td>\n",
       "      <td>7639</td>\n",
       "    </tr>\n",
       "    <tr>\n",
       "      <th>2</th>\n",
       "      <td>5631500400</td>\n",
       "      <td>20150225T000000</td>\n",
       "      <td>180000.0</td>\n",
       "      <td>2</td>\n",
       "      <td>1.00</td>\n",
       "      <td>770</td>\n",
       "      <td>10000</td>\n",
       "      <td>1.0</td>\n",
       "      <td>0</td>\n",
       "      <td>0</td>\n",
       "      <td>...</td>\n",
       "      <td>6</td>\n",
       "      <td>770</td>\n",
       "      <td>0</td>\n",
       "      <td>1933</td>\n",
       "      <td>0</td>\n",
       "      <td>98028</td>\n",
       "      <td>47.7379</td>\n",
       "      <td>-122.233</td>\n",
       "      <td>2720</td>\n",
       "      <td>8062</td>\n",
       "    </tr>\n",
       "    <tr>\n",
       "      <th>3</th>\n",
       "      <td>2487200875</td>\n",
       "      <td>20141209T000000</td>\n",
       "      <td>604000.0</td>\n",
       "      <td>4</td>\n",
       "      <td>3.00</td>\n",
       "      <td>1960</td>\n",
       "      <td>5000</td>\n",
       "      <td>1.0</td>\n",
       "      <td>0</td>\n",
       "      <td>0</td>\n",
       "      <td>...</td>\n",
       "      <td>7</td>\n",
       "      <td>1050</td>\n",
       "      <td>910</td>\n",
       "      <td>1965</td>\n",
       "      <td>0</td>\n",
       "      <td>98136</td>\n",
       "      <td>47.5208</td>\n",
       "      <td>-122.393</td>\n",
       "      <td>1360</td>\n",
       "      <td>5000</td>\n",
       "    </tr>\n",
       "    <tr>\n",
       "      <th>4</th>\n",
       "      <td>1954400510</td>\n",
       "      <td>20150218T000000</td>\n",
       "      <td>510000.0</td>\n",
       "      <td>3</td>\n",
       "      <td>2.00</td>\n",
       "      <td>1680</td>\n",
       "      <td>8080</td>\n",
       "      <td>1.0</td>\n",
       "      <td>0</td>\n",
       "      <td>0</td>\n",
       "      <td>...</td>\n",
       "      <td>8</td>\n",
       "      <td>1680</td>\n",
       "      <td>0</td>\n",
       "      <td>1987</td>\n",
       "      <td>0</td>\n",
       "      <td>98074</td>\n",
       "      <td>47.6168</td>\n",
       "      <td>-122.045</td>\n",
       "      <td>1800</td>\n",
       "      <td>7503</td>\n",
       "    </tr>\n",
       "  </tbody>\n",
       "</table>\n",
       "<p>5 rows × 21 columns</p>\n",
       "</div>"
      ],
      "text/plain": [
       "           id             date     price  bedrooms  bathrooms  sqft_living  \\\n",
       "0  7129300520  20141013T000000  221900.0         3       1.00         1180   \n",
       "1  6414100192  20141209T000000  538000.0         3       2.25         2570   \n",
       "2  5631500400  20150225T000000  180000.0         2       1.00          770   \n",
       "3  2487200875  20141209T000000  604000.0         4       3.00         1960   \n",
       "4  1954400510  20150218T000000  510000.0         3       2.00         1680   \n",
       "\n",
       "   sqft_lot  floors  waterfront  view     ...      grade  sqft_above  \\\n",
       "0      5650     1.0           0     0     ...          7        1180   \n",
       "1      7242     2.0           0     0     ...          7        2170   \n",
       "2     10000     1.0           0     0     ...          6         770   \n",
       "3      5000     1.0           0     0     ...          7        1050   \n",
       "4      8080     1.0           0     0     ...          8        1680   \n",
       "\n",
       "   sqft_basement  yr_built  yr_renovated  zipcode      lat     long  \\\n",
       "0              0      1955             0    98178  47.5112 -122.257   \n",
       "1            400      1951          1991    98125  47.7210 -122.319   \n",
       "2              0      1933             0    98028  47.7379 -122.233   \n",
       "3            910      1965             0    98136  47.5208 -122.393   \n",
       "4              0      1987             0    98074  47.6168 -122.045   \n",
       "\n",
       "   sqft_living15  sqft_lot15  \n",
       "0           1340        5650  \n",
       "1           1690        7639  \n",
       "2           2720        8062  \n",
       "3           1360        5000  \n",
       "4           1800        7503  \n",
       "\n",
       "[5 rows x 21 columns]"
      ]
     },
     "execution_count": 125,
     "metadata": {},
     "output_type": "execute_result"
    }
   ],
   "source": [
    "df_houses.head()"
   ]
  },
  {
   "cell_type": "markdown",
   "metadata": {},
   "source": [
    "# Assignment\n",
    "Select an outcome variable and then pick four other variables (one categorical, four continuous) to act as the basis for features. \n",
    "Explore the variables using the univariate and bivariate methods you've learned so far.\n",
    "Create ten new features. \n",
    "Explain the reasoning behind each one.\n",
    "Select the five best features and justify your choices."
   ]
  },
  {
   "cell_type": "markdown",
   "metadata": {},
   "source": [
    "# General Description of Dataset"
   ]
  },
  {
   "cell_type": "markdown",
   "metadata": {},
   "source": [
    "(Add more here from Kaggle. King County contains Seattle.) The outcome variable is: price. The four continuous variables are: sqft_living, sqft_lot, bedrooms, bathrooms.  The categorical variable is: zipcode."
   ]
  },
  {
   "cell_type": "code",
   "execution_count": 4,
   "metadata": {},
   "outputs": [
    {
     "name": "stdout",
     "output_type": "stream",
     "text": [
      "Index(['id', 'date', 'price', 'bedrooms', 'bathrooms', 'sqft_living',\n",
      "       'sqft_lot', 'floors', 'waterfront', 'view', 'condition', 'grade',\n",
      "       'sqft_above', 'sqft_basement', 'yr_built', 'yr_renovated', 'zipcode',\n",
      "       'lat', 'long', 'sqft_living15', 'sqft_lot15'],\n",
      "      dtype='object')\n"
     ]
    }
   ],
   "source": [
    "print(df_houses.columns)"
   ]
  },
  {
   "cell_type": "code",
   "execution_count": 126,
   "metadata": {},
   "outputs": [
    {
     "data": {
      "text/plain": [
       "21"
      ]
     },
     "execution_count": 126,
     "metadata": {},
     "output_type": "execute_result"
    }
   ],
   "source": [
    "len(df_houses.columns)"
   ]
  },
  {
   "cell_type": "code",
   "execution_count": 127,
   "metadata": {},
   "outputs": [
    {
     "data": {
      "text/plain": [
       "21613"
      ]
     },
     "execution_count": 127,
     "metadata": {},
     "output_type": "execute_result"
    }
   ],
   "source": [
    "len(df_houses)"
   ]
  },
  {
   "cell_type": "markdown",
   "metadata": {},
   "source": [
    "# Univariate Analysis"
   ]
  },
  {
   "cell_type": "markdown",
   "metadata": {},
   "source": [
    "There are 21 variables in the dataset, of which we have selected six for exploration."
   ]
  },
  {
   "cell_type": "code",
   "execution_count": 5,
   "metadata": {},
   "outputs": [
    {
     "data": {
      "text/plain": [
       "453873"
      ]
     },
     "execution_count": 5,
     "metadata": {},
     "output_type": "execute_result"
    }
   ],
   "source": [
    "#Number of datapoints = 21613 rows x 21 columns.\n",
    "21613*21\n",
    "#Impressively, there is no missing data."
   ]
  },
  {
   "cell_type": "code",
   "execution_count": 34,
   "metadata": {},
   "outputs": [
    {
     "data": {
      "text/plain": [
       "<matplotlib.lines.Line2D at 0x111b314e0>"
      ]
     },
     "execution_count": 34,
     "metadata": {},
     "output_type": "execute_result"
    },
    {
     "data": {
      "image/png": "[encoded data removed]",
      "text/plain": [
       "<matplotlib.figure.Figure at 0x11200b978>"
      ]
     },
     "metadata": {},
     "output_type": "display_data"
    }
   ],
   "source": [
    "plt.hist(df_houses['sqft_living'],bins = 20, color = 'c',range =(0,8000))\n",
    "plt.title('Square Feet of Living Space')\n",
    "plt.xlabel('Square Feet')\n",
    "plt.ylabel('Houses')\n",
    "plt.axvline(df_houses['sqft_living'].mean())"
   ]
  },
  {
   "cell_type": "code",
   "execution_count": 7,
   "metadata": {},
   "outputs": [
    {
     "data": {
      "text/plain": [
       "count    21613.000000\n",
       "mean      2079.899736\n",
       "std        918.440897\n",
       "min        290.000000\n",
       "25%       1427.000000\n",
       "50%       1910.000000\n",
       "75%       2550.000000\n",
       "max      13540.000000\n",
       "Name: sqft_living, dtype: float64"
      ]
     },
     "execution_count": 7,
     "metadata": {},
     "output_type": "execute_result"
    }
   ],
   "source": [
    "# Square feet of living space is approximately normal, but skewed to the left, with a long tail and an outlier max.\n",
    "df_houses.sqft_living.describe()"
   ]
  },
  {
   "cell_type": "code",
   "execution_count": 38,
   "metadata": {},
   "outputs": [
    {
     "data": {
      "text/plain": [
       "<matplotlib.lines.Line2D at 0x1125a4cf8>"
      ]
     },
     "execution_count": 38,
     "metadata": {},
     "output_type": "execute_result"
    },
    {
     "data": {
      "image/png": "[encoded data removed]",
      "text/plain": [
       "<matplotlib.figure.Figure at 0x1124ef978>"
      ]
     },
     "metadata": {},
     "output_type": "display_data"
    }
   ],
   "source": [
    "plt.hist(df_houses['sqft_lot'],bins = 20, color = 'c',range = (0,60000))\n",
    "plt.title('Lot Size')\n",
    "plt.xlabel('Square Feet')\n",
    "plt.ylabel('Houses')\n",
    "plt.axvline(df_houses['sqft_lot'].mean())"
   ]
  },
  {
   "cell_type": "code",
   "execution_count": 11,
   "metadata": {},
   "outputs": [
    {
     "data": {
      "text/plain": [
       "count    2.161300e+04\n",
       "mean     1.510697e+04\n",
       "std      4.142051e+04\n",
       "min      5.200000e+02\n",
       "25%      5.040000e+03\n",
       "50%      7.618000e+03\n",
       "75%      1.068800e+04\n",
       "max      1.651359e+06\n",
       "Name: sqft_lot, dtype: float64"
      ]
     },
     "execution_count": 11,
     "metadata": {},
     "output_type": "execute_result"
    }
   ],
   "source": [
    "# Lot size is approximately normal, but skewed to the left, with a very long tail.\n",
    "df_houses.sqft_lot.describe()"
   ]
  },
  {
   "cell_type": "code",
   "execution_count": 47,
   "metadata": {},
   "outputs": [
    {
     "data": {
      "text/plain": [
       "<matplotlib.lines.Line2D at 0x112e37630>"
      ]
     },
     "execution_count": 47,
     "metadata": {},
     "output_type": "execute_result"
    },
    {
     "data": {
      "image/png": "[encoded data removed]",
      "text/plain": [
       "<matplotlib.figure.Figure at 0x112d79908>"
      ]
     },
     "metadata": {},
     "output_type": "display_data"
    }
   ],
   "source": [
    "plt.hist(df_houses['bedrooms'],bins = 8, color = 'c',range=(0,8))\n",
    "plt.title('Bedrooms')\n",
    "plt.xlabel('Bedrooms')\n",
    "plt.ylabel('Houses')\n",
    "plt.axvline(df_houses['bedrooms'].mean())"
   ]
  },
  {
   "cell_type": "code",
   "execution_count": 12,
   "metadata": {},
   "outputs": [
    {
     "data": {
      "text/plain": [
       "count    21613.000000\n",
       "mean         3.370842\n",
       "std          0.930062\n",
       "min          0.000000\n",
       "25%          3.000000\n",
       "50%          3.000000\n",
       "75%          4.000000\n",
       "max         33.000000\n",
       "Name: bedrooms, dtype: float64"
      ]
     },
     "execution_count": 12,
     "metadata": {},
     "output_type": "execute_result"
    }
   ],
   "source": [
    "# Bedrooms is approximately normal, but somebody has a house with 33 bedrooms.\n",
    "df_houses.bedrooms.describe()"
   ]
  },
  {
   "cell_type": "code",
   "execution_count": 48,
   "metadata": {},
   "outputs": [
    {
     "data": {
      "text/plain": [
       "<matplotlib.lines.Line2D at 0x11202a400>"
      ]
     },
     "execution_count": 48,
     "metadata": {},
     "output_type": "execute_result"
    },
    {
     "data": {
      "image/png": "[encoded data removed]",
      "text/plain": [
       "<matplotlib.figure.Figure at 0x112e41d30>"
      ]
     },
     "metadata": {},
     "output_type": "display_data"
    }
   ],
   "source": [
    "plt.hist(df_houses['bathrooms'],bins = 6, color = 'c',range=(0,6))\n",
    "plt.title('Bathrooms')\n",
    "plt.xlabel('Bathrooms')\n",
    "plt.ylabel('Houses')\n",
    "plt.axvline(df_houses['bathrooms'].mean())"
   ]
  },
  {
   "cell_type": "code",
   "execution_count": 17,
   "metadata": {},
   "outputs": [
    {
     "data": {
      "text/plain": [
       "count    21613.000000\n",
       "mean         2.114757\n",
       "std          0.770163\n",
       "min          0.000000\n",
       "25%          1.750000\n",
       "50%          2.250000\n",
       "75%          2.500000\n",
       "max          8.000000\n",
       "Name: bathrooms, dtype: float64"
      ]
     },
     "execution_count": 17,
     "metadata": {},
     "output_type": "execute_result"
    }
   ],
   "source": [
    "# Bathrooms is approximately normal, but skewed to the left.\n",
    "df_houses.bathrooms.describe()"
   ]
  },
  {
   "cell_type": "code",
   "execution_count": 52,
   "metadata": {},
   "outputs": [
    {
     "data": {
      "text/plain": [
       "<matplotlib.lines.Line2D at 0x11329dc18>"
      ]
     },
     "execution_count": 52,
     "metadata": {},
     "output_type": "execute_result"
    },
    {
     "data": {
      "image/png": "[encoded data removed]",
      "text/plain": [
       "<matplotlib.figure.Figure at 0x1132697f0>"
      ]
     },
     "metadata": {},
     "output_type": "display_data"
    }
   ],
   "source": [
    "plt.hist(df_houses['price'],bins = 20, color = 'c',range=(70000,2000000))\n",
    "plt.title('Home Prices')\n",
    "plt.xlabel('Price (Dollars)')\n",
    "plt.ylabel('Number of Houses')\n",
    "plt.axvline(df_houses['price'].mean())"
   ]
  },
  {
   "cell_type": "code",
   "execution_count": 20,
   "metadata": {},
   "outputs": [
    {
     "data": {
      "text/plain": [
       "count    2.161300e+04\n",
       "mean     5.400881e+05\n",
       "std      3.671272e+05\n",
       "min      7.500000e+04\n",
       "25%      3.219500e+05\n",
       "50%      4.500000e+05\n",
       "75%      6.450000e+05\n",
       "max      7.700000e+06\n",
       "Name: price, dtype: float64"
      ]
     },
     "execution_count": 20,
     "metadata": {},
     "output_type": "execute_result"
    }
   ],
   "source": [
    "# Price is approximately normal, but skewed to the left with a very long tail.\n",
    "df_houses.price.describe()"
   ]
  },
  {
   "cell_type": "code",
   "execution_count": 82,
   "metadata": {},
   "outputs": [
    {
     "data": {
      "text/plain": [
       "zipcode\n",
       "98103    602\n",
       "98038    590\n",
       "98115    583\n",
       "98052    574\n",
       "98117    553\n",
       "Name: id, dtype: int64"
      ]
     },
     "execution_count": 82,
     "metadata": {},
     "output_type": "execute_result"
    }
   ],
   "source": [
    "zip_count = df_houses.groupby('zipcode').count().apply(lambda x: x.sort_values(ascending=False))\n",
    "zip_count.head().iloc[:,0]"
   ]
  },
  {
   "cell_type": "code",
   "execution_count": 101,
   "metadata": {},
   "outputs": [
    {
     "data": {
      "text/html": [
       "<div>\n",
       "<style>\n",
       "    .dataframe thead tr:only-child th {\n",
       "        text-align: right;\n",
       "    }\n",
       "\n",
       "    .dataframe thead th {\n",
       "        text-align: left;\n",
       "    }\n",
       "\n",
       "    .dataframe tbody tr th {\n",
       "        vertical-align: top;\n",
       "    }\n",
       "</style>\n",
       "<table border=\"1\" class=\"dataframe\">\n",
       "  <thead>\n",
       "    <tr style=\"text-align: right;\">\n",
       "      <th></th>\n",
       "      <th>id</th>\n",
       "      <th>price</th>\n",
       "      <th>bedrooms</th>\n",
       "      <th>bathrooms</th>\n",
       "      <th>sqft_living</th>\n",
       "      <th>sqft_lot</th>\n",
       "      <th>floors</th>\n",
       "      <th>waterfront</th>\n",
       "      <th>view</th>\n",
       "      <th>condition</th>\n",
       "      <th>grade</th>\n",
       "      <th>sqft_above</th>\n",
       "      <th>sqft_basement</th>\n",
       "      <th>yr_built</th>\n",
       "      <th>yr_renovated</th>\n",
       "      <th>lat</th>\n",
       "      <th>long</th>\n",
       "      <th>sqft_living15</th>\n",
       "      <th>sqft_lot15</th>\n",
       "    </tr>\n",
       "    <tr>\n",
       "      <th>zipcode</th>\n",
       "      <th></th>\n",
       "      <th></th>\n",
       "      <th></th>\n",
       "      <th></th>\n",
       "      <th></th>\n",
       "      <th></th>\n",
       "      <th></th>\n",
       "      <th></th>\n",
       "      <th></th>\n",
       "      <th></th>\n",
       "      <th></th>\n",
       "      <th></th>\n",
       "      <th></th>\n",
       "      <th></th>\n",
       "      <th></th>\n",
       "      <th></th>\n",
       "      <th></th>\n",
       "      <th></th>\n",
       "      <th></th>\n",
       "    </tr>\n",
       "  </thead>\n",
       "  <tbody>\n",
       "    <tr>\n",
       "      <th>98039</th>\n",
       "      <td>3.755708e+09</td>\n",
       "      <td>2.160607e+06</td>\n",
       "      <td>4.060000</td>\n",
       "      <td>3.200000</td>\n",
       "      <td>3800.900000</td>\n",
       "      <td>17403.560000</td>\n",
       "      <td>1.560000</td>\n",
       "      <td>0.020000</td>\n",
       "      <td>0.440000</td>\n",
       "      <td>3.480000</td>\n",
       "      <td>9.560000</td>\n",
       "      <td>3290.900000</td>\n",
       "      <td>510.000000</td>\n",
       "      <td>1972.520000</td>\n",
       "      <td>398.600000</td>\n",
       "      <td>47.625840</td>\n",
       "      <td>-122.233540</td>\n",
       "      <td>3132.200000</td>\n",
       "      <td>17291.100000</td>\n",
       "    </tr>\n",
       "    <tr>\n",
       "      <th>98004</th>\n",
       "      <td>4.394237e+09</td>\n",
       "      <td>1.355927e+06</td>\n",
       "      <td>3.854890</td>\n",
       "      <td>2.527603</td>\n",
       "      <td>2909.022082</td>\n",
       "      <td>13104.220820</td>\n",
       "      <td>1.432177</td>\n",
       "      <td>0.003155</td>\n",
       "      <td>0.305994</td>\n",
       "      <td>3.495268</td>\n",
       "      <td>8.687697</td>\n",
       "      <td>2419.842271</td>\n",
       "      <td>489.179811</td>\n",
       "      <td>1971.470032</td>\n",
       "      <td>208.145110</td>\n",
       "      <td>47.616183</td>\n",
       "      <td>-122.205189</td>\n",
       "      <td>2674.700315</td>\n",
       "      <td>12805.022082</td>\n",
       "    </tr>\n",
       "    <tr>\n",
       "      <th>98040</th>\n",
       "      <td>4.199323e+09</td>\n",
       "      <td>1.194230e+06</td>\n",
       "      <td>4.028369</td>\n",
       "      <td>2.716312</td>\n",
       "      <td>3106.833333</td>\n",
       "      <td>13704.464539</td>\n",
       "      <td>1.505319</td>\n",
       "      <td>0.042553</td>\n",
       "      <td>0.783688</td>\n",
       "      <td>3.787234</td>\n",
       "      <td>8.960993</td>\n",
       "      <td>2474.329787</td>\n",
       "      <td>632.503546</td>\n",
       "      <td>1971.471631</td>\n",
       "      <td>233.574468</td>\n",
       "      <td>47.559846</td>\n",
       "      <td>-122.225592</td>\n",
       "      <td>2898.744681</td>\n",
       "      <td>12801.283688</td>\n",
       "    </tr>\n",
       "    <tr>\n",
       "      <th>98112</th>\n",
       "      <td>4.826282e+09</td>\n",
       "      <td>1.095499e+06</td>\n",
       "      <td>3.509294</td>\n",
       "      <td>2.373606</td>\n",
       "      <td>2498.743494</td>\n",
       "      <td>4990.431227</td>\n",
       "      <td>1.806691</td>\n",
       "      <td>0.000000</td>\n",
       "      <td>0.148699</td>\n",
       "      <td>3.516729</td>\n",
       "      <td>8.442379</td>\n",
       "      <td>2005.695167</td>\n",
       "      <td>493.048327</td>\n",
       "      <td>1944.449814</td>\n",
       "      <td>223.144981</td>\n",
       "      <td>47.629619</td>\n",
       "      <td>-122.297866</td>\n",
       "      <td>2280.078067</td>\n",
       "      <td>4898.159851</td>\n",
       "    </tr>\n",
       "    <tr>\n",
       "      <th>98102</th>\n",
       "      <td>4.123034e+09</td>\n",
       "      <td>9.012583e+05</td>\n",
       "      <td>3.219048</td>\n",
       "      <td>2.261905</td>\n",
       "      <td>2159.742857</td>\n",
       "      <td>3616.190476</td>\n",
       "      <td>2.004762</td>\n",
       "      <td>0.000000</td>\n",
       "      <td>0.171429</td>\n",
       "      <td>3.371429</td>\n",
       "      <td>8.285714</td>\n",
       "      <td>1764.933333</td>\n",
       "      <td>394.809524</td>\n",
       "      <td>1952.523810</td>\n",
       "      <td>113.923810</td>\n",
       "      <td>47.634607</td>\n",
       "      <td>-122.322248</td>\n",
       "      <td>1958.333333</td>\n",
       "      <td>3310.133333</td>\n",
       "    </tr>\n",
       "  </tbody>\n",
       "</table>\n",
       "</div>"
      ],
      "text/plain": [
       "                   id         price  bedrooms  bathrooms  sqft_living  \\\n",
       "zipcode                                                                 \n",
       "98039    3.755708e+09  2.160607e+06  4.060000   3.200000  3800.900000   \n",
       "98004    4.394237e+09  1.355927e+06  3.854890   2.527603  2909.022082   \n",
       "98040    4.199323e+09  1.194230e+06  4.028369   2.716312  3106.833333   \n",
       "98112    4.826282e+09  1.095499e+06  3.509294   2.373606  2498.743494   \n",
       "98102    4.123034e+09  9.012583e+05  3.219048   2.261905  2159.742857   \n",
       "\n",
       "             sqft_lot    floors  waterfront      view  condition     grade  \\\n",
       "zipcode                                                                      \n",
       "98039    17403.560000  1.560000    0.020000  0.440000   3.480000  9.560000   \n",
       "98004    13104.220820  1.432177    0.003155  0.305994   3.495268  8.687697   \n",
       "98040    13704.464539  1.505319    0.042553  0.783688   3.787234  8.960993   \n",
       "98112     4990.431227  1.806691    0.000000  0.148699   3.516729  8.442379   \n",
       "98102     3616.190476  2.004762    0.000000  0.171429   3.371429  8.285714   \n",
       "\n",
       "          sqft_above  sqft_basement     yr_built  yr_renovated        lat  \\\n",
       "zipcode                                                                     \n",
       "98039    3290.900000     510.000000  1972.520000    398.600000  47.625840   \n",
       "98004    2419.842271     489.179811  1971.470032    208.145110  47.616183   \n",
       "98040    2474.329787     632.503546  1971.471631    233.574468  47.559846   \n",
       "98112    2005.695167     493.048327  1944.449814    223.144981  47.629619   \n",
       "98102    1764.933333     394.809524  1952.523810    113.923810  47.634607   \n",
       "\n",
       "               long  sqft_living15    sqft_lot15  \n",
       "zipcode                                           \n",
       "98039   -122.233540    3132.200000  17291.100000  \n",
       "98004   -122.205189    2674.700315  12805.022082  \n",
       "98040   -122.225592    2898.744681  12801.283688  \n",
       "98112   -122.297866    2280.078067   4898.159851  \n",
       "98102   -122.322248    1958.333333   3310.133333  "
      ]
     },
     "execution_count": 101,
     "metadata": {},
     "output_type": "execute_result"
    }
   ],
   "source": [
    "zip_avg = df_houses.groupby('zipcode').mean().sort_values(by='price', ascending=False)\n",
    "zip_avg.head()"
   ]
  },
  {
   "cell_type": "markdown",
   "metadata": {},
   "source": [
    "# Bivariate Analysis"
   ]
  },
  {
   "cell_type": "code",
   "execution_count": 3,
   "metadata": {},
   "outputs": [
    {
     "data": {
      "text/html": [
       "<div>\n",
       "<style>\n",
       "    .dataframe thead tr:only-child th {\n",
       "        text-align: right;\n",
       "    }\n",
       "\n",
       "    .dataframe thead th {\n",
       "        text-align: left;\n",
       "    }\n",
       "\n",
       "    .dataframe tbody tr th {\n",
       "        vertical-align: top;\n",
       "    }\n",
       "</style>\n",
       "<table border=\"1\" class=\"dataframe\">\n",
       "  <thead>\n",
       "    <tr style=\"text-align: right;\">\n",
       "      <th></th>\n",
       "      <th>sqft_living</th>\n",
       "      <th>sqft_lot</th>\n",
       "      <th>bedrooms</th>\n",
       "      <th>bathrooms</th>\n",
       "      <th>price</th>\n",
       "    </tr>\n",
       "  </thead>\n",
       "  <tbody>\n",
       "    <tr>\n",
       "      <th>0</th>\n",
       "      <td>1180</td>\n",
       "      <td>5650</td>\n",
       "      <td>3</td>\n",
       "      <td>1.00</td>\n",
       "      <td>221900.0</td>\n",
       "    </tr>\n",
       "    <tr>\n",
       "      <th>1</th>\n",
       "      <td>2570</td>\n",
       "      <td>7242</td>\n",
       "      <td>3</td>\n",
       "      <td>2.25</td>\n",
       "      <td>538000.0</td>\n",
       "    </tr>\n",
       "    <tr>\n",
       "      <th>2</th>\n",
       "      <td>770</td>\n",
       "      <td>10000</td>\n",
       "      <td>2</td>\n",
       "      <td>1.00</td>\n",
       "      <td>180000.0</td>\n",
       "    </tr>\n",
       "    <tr>\n",
       "      <th>3</th>\n",
       "      <td>1960</td>\n",
       "      <td>5000</td>\n",
       "      <td>4</td>\n",
       "      <td>3.00</td>\n",
       "      <td>604000.0</td>\n",
       "    </tr>\n",
       "    <tr>\n",
       "      <th>4</th>\n",
       "      <td>1680</td>\n",
       "      <td>8080</td>\n",
       "      <td>3</td>\n",
       "      <td>2.00</td>\n",
       "      <td>510000.0</td>\n",
       "    </tr>\n",
       "  </tbody>\n",
       "</table>\n",
       "</div>"
      ],
      "text/plain": [
       "   sqft_living  sqft_lot  bedrooms  bathrooms     price\n",
       "0         1180      5650         3       1.00  221900.0\n",
       "1         2570      7242         3       2.25  538000.0\n",
       "2          770     10000         2       1.00  180000.0\n",
       "3         1960      5000         4       3.00  604000.0\n",
       "4         1680      8080         3       2.00  510000.0"
      ]
     },
     "execution_count": 3,
     "metadata": {},
     "output_type": "execute_result"
    }
   ],
   "source": [
    "# Make a dataframe with just the four continuous variables and the outcome variable price.\n",
    "df_five = df_houses[['sqft_living','sqft_lot','bedrooms','bathrooms','price']]\n",
    "df_five.head()"
   ]
  },
  {
   "cell_type": "code",
   "execution_count": 131,
   "metadata": {},
   "outputs": [
    {
     "data": {
      "text/plain": [
       "<seaborn.axisgrid.PairGrid at 0x118404518>"
      ]
     },
     "execution_count": 131,
     "metadata": {},
     "output_type": "execute_result"
    },
    {
     "data": {
      "image/png": "[encoded data removed]",
      "text/plain": [
       "<matplotlib.figure.Figure at 0x118404470>"
      ]
     },
     "metadata": {},
     "output_type": "display_data"
    }
   ],
   "source": [
    "sns.set_style(\"white\")\n",
    "# Make a scatterplot matrix.\n",
    "m = sns.PairGrid(df_five, diag_sharey=False)\n",
    "\n",
    "# Scatterplot in upper right\n",
    "m.map_upper(plt.scatter, alpha=.5)\n",
    "\n",
    "# Fit line in lower left summarizing the linear relationship of the two variables.\n",
    "m.map_lower(sns.regplot, scatter_kws=dict(alpha=0))\n",
    "\n",
    "# On the diagonal, give Kernel Density Estimation of each variable.\n",
    "m.map_diag(sns.kdeplot, lw=3)"
   ]
  },
  {
   "cell_type": "code",
   "execution_count": 132,
   "metadata": {},
   "outputs": [
    {
     "name": "stdout",
     "output_type": "stream",
     "text": [
      "             sqft_living  sqft_lot  bedrooms  bathrooms     price\n",
      "sqft_living     1.000000  0.172826  0.576671   0.754665  0.702035\n",
      "sqft_lot        0.172826  1.000000  0.031703   0.087740  0.089661\n",
      "bedrooms        0.576671  0.031703  1.000000   0.515884  0.308350\n",
      "bathrooms       0.754665  0.087740  0.515884   1.000000  0.525138\n",
      "price           0.702035  0.089661  0.308350   0.525138  1.000000\n"
     ]
    },
    {
     "data": {
      "text/plain": [
       "<matplotlib.axes._subplots.AxesSubplot at 0x116874ba8>"
      ]
     },
     "execution_count": 132,
     "metadata": {},
     "output_type": "execute_result"
    },
    {
     "data": {
      "image/png": "[encoded data removed]",
      "text/plain": [
       "<matplotlib.figure.Figure at 0x117f48eb8>"
      ]
     },
     "metadata": {},
     "output_type": "display_data"
    }
   ],
   "source": [
    "# Make the correlation matrix.\n",
    "corrmat = df_five.corr()\n",
    "print(corrmat)\n",
    "\n",
    "# Set up the matplotlib figure.\n",
    "f, ax = plt.subplots(figsize=(12, 9))\n",
    "\n",
    "# Draw the heatmap using seaborn.\n",
    "sns.heatmap(corrmat, vmax=.8, square=True)\n",
    "\n",
    "# Aspects of the results in words:\n",
    "# Price is closely correlated with square feet of living space, but not at all correlated with lot size.\n",
    "# Big homes command high prices and not lots of land.\n",
    "# Lot size is only loosely correlated with square feet of living space. A high proportion of big houses must be \n",
    "# near their neighbors.\n",
    "# Bathrooms are closely correlated with square feet of living space. As the house gets bigger, the number of bathroooms\n",
    "# increases accordingly.\n",
    "# Bedrooms are less closely correlated with square feet of living space. As the house gets bigger, the number of \n",
    "# bedrooms increases gradually."
   ]
  },
  {
   "cell_type": "code",
   "execution_count": 133,
   "metadata": {},
   "outputs": [
    {
     "data": {
      "text/plain": [
       "(0, 7500000)"
      ]
     },
     "execution_count": 133,
     "metadata": {},
     "output_type": "execute_result"
    },
    {
     "data": {
      "image/png": "[encoded data removed]",
      "text/plain": [
       "<matplotlib.figure.Figure at 0x11837dc18>"
      ]
     },
     "metadata": {},
     "output_type": "display_data"
    }
   ],
   "source": [
    "# Comparing two zipcodes - highest average price (98039) with lowest average price (98002).\n",
    "# A wide disparity within the County.\n",
    "find_98039 = df_houses.zipcode.apply(lambda x:x==98039)\n",
    "df_98039 = df_houses.loc[find_98039,:]\n",
    "\n",
    "find_98002 = df_houses.zipcode.apply(lambda x:x==98002)\n",
    "df_98002 = df_houses.loc[find_98002,:]\n",
    "\n",
    "plt.figure(figsize=(8,8))\n",
    "plt.subplot(1,2,1)\n",
    "plt.boxplot(df_98039.price)\n",
    "plt.xlabel('Price in Zip Code 98039')\n",
    "plt.ylim(0,7500000)\n",
    "\n",
    "plt.subplot(1,2,2)\n",
    "plt.boxplot(df_98002.price)\n",
    "plt.xlabel('Price in Zip Code 98002')\n",
    "plt.ylim(0,7500000)"
   ]
  },
  {
   "cell_type": "markdown",
   "metadata": {},
   "source": [
    "# Ten Features"
   ]
  },
  {
   "cell_type": "code",
   "execution_count": 139,
   "metadata": {},
   "outputs": [],
   "source": [
    "# Ten possible features to explain the outcome variable price are:\n",
    "# 1. sqft_living\n",
    "# 2. sqft_lot\n",
    "# 3. bathrooms\n",
    "# 4. bedrooms\n",
    "# 5. the smaller of: (bathrooms, bedrooms) for a given house\n",
    "# 6. an average of bathrooms and bedrooms, weighted in a ratio of 5:3 respectively, based on \n",
    "#    their respective correlations with price.\n",
    "# 7. an average of sqft_living and sqft_lot, weighted in a ratio of 7:1 respectively, base on \n",
    "#    their respective correlations with price.\n",
    "# 8. total of bathrooms and bedrooms\n",
    "# 9. total of sqft_living and sqft_lot\n",
    "# 10. a scaled composite of sqft_living, bathrooms, and bedrooms"
   ]
  },
  {
   "cell_type": "markdown",
   "metadata": {},
   "source": [
    "# Best Features"
   ]
  },
  {
   "cell_type": "code",
   "execution_count": 12,
   "metadata": {},
   "outputs": [
    {
     "data": {
      "text/html": [
       "<div>\n",
       "<style>\n",
       "    .dataframe thead tr:only-child th {\n",
       "        text-align: right;\n",
       "    }\n",
       "\n",
       "    .dataframe thead th {\n",
       "        text-align: left;\n",
       "    }\n",
       "\n",
       "    .dataframe tbody tr th {\n",
       "        vertical-align: top;\n",
       "    }\n",
       "</style>\n",
       "<table border=\"1\" class=\"dataframe\">\n",
       "  <thead>\n",
       "    <tr style=\"text-align: right;\">\n",
       "      <th></th>\n",
       "      <th>sqft_living</th>\n",
       "      <th>sqft_lot</th>\n",
       "      <th>bedrooms</th>\n",
       "      <th>bathrooms</th>\n",
       "    </tr>\n",
       "  </thead>\n",
       "  <tbody>\n",
       "    <tr>\n",
       "      <th>0</th>\n",
       "      <td>1180</td>\n",
       "      <td>5650</td>\n",
       "      <td>3</td>\n",
       "      <td>1.00</td>\n",
       "    </tr>\n",
       "    <tr>\n",
       "      <th>1</th>\n",
       "      <td>2570</td>\n",
       "      <td>7242</td>\n",
       "      <td>3</td>\n",
       "      <td>2.25</td>\n",
       "    </tr>\n",
       "    <tr>\n",
       "      <th>2</th>\n",
       "      <td>770</td>\n",
       "      <td>10000</td>\n",
       "      <td>2</td>\n",
       "      <td>1.00</td>\n",
       "    </tr>\n",
       "    <tr>\n",
       "      <th>3</th>\n",
       "      <td>1960</td>\n",
       "      <td>5000</td>\n",
       "      <td>4</td>\n",
       "      <td>3.00</td>\n",
       "    </tr>\n",
       "    <tr>\n",
       "      <th>4</th>\n",
       "      <td>1680</td>\n",
       "      <td>8080</td>\n",
       "      <td>3</td>\n",
       "      <td>2.00</td>\n",
       "    </tr>\n",
       "  </tbody>\n",
       "</table>\n",
       "</div>"
      ],
      "text/plain": [
       "   sqft_living  sqft_lot  bedrooms  bathrooms\n",
       "0         1180      5650         3       1.00\n",
       "1         2570      7242         3       2.25\n",
       "2          770     10000         2       1.00\n",
       "3         1960      5000         4       3.00\n",
       "4         1680      8080         3       2.00"
      ]
     },
     "execution_count": 12,
     "metadata": {},
     "output_type": "execute_result"
    }
   ],
   "source": [
    "# Make a dataframe with just the four continuous variables without the outcome variable price.\n",
    "df_four = df_houses[['sqft_living','sqft_lot','bedrooms','bathrooms']]\n",
    "df_four.head()"
   ]
  },
  {
   "cell_type": "code",
   "execution_count": 13,
   "metadata": {},
   "outputs": [
    {
     "name": "stdout",
     "output_type": "stream",
     "text": [
      "[  9.99523259e-01   4.76740996e-04   3.39450715e-10   1.42612404e-10]\n"
     ]
    }
   ],
   "source": [
    "pca = PCA(n_components=4)\n",
    "pca.fit(df_four)\n",
    "print(pca.explained_variance_ratio_)\n",
    "# Percentage of total variance in the dataset explained by each component:"
   ]
  },
  {
   "cell_type": "code",
   "execution_count": 15,
   "metadata": {},
   "outputs": [
    {
     "data": {
      "text/plain": [
       "(21613, 4)"
      ]
     },
     "execution_count": 15,
     "metadata": {},
     "output_type": "execute_result"
    }
   ],
   "source": [
    "pca.transform(df_four).shape"
   ]
  },
  {
   "cell_type": "code",
   "execution_count": null,
   "metadata": {},
   "outputs": [],
   "source": []
  }
 ],
 "metadata": {
  "kernelspec": {
   "display_name": "Python 3",
   "language": "python",
   "name": "python3"
  },
  "language_info": {
   "codemirror_mode": {
    "name": "ipython",
    "version": 3
   },
   "file_extension": ".py",
   "mimetype": "text/x-python",
   "name": "python",
   "nbconvert_exporter": "python",
   "pygments_lexer": "ipython3",
   "version": "3.6.2"
  }
 },
 "nbformat": 4,
 "nbformat_minor": 2
}
